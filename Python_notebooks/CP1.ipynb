{
  "cells": [
    {
      "cell_type": "markdown",
      "metadata": {
        "colab_type": "text",
        "id": "view-in-github"
      },
      "source": [
        "<a href=\"https://colab.research.google.com/github/andreacangiani/NSPDE-ANA2024/blob/main/Python/CP1_worked.ipynb\" target=\"_parent\"><img src=\"https://colab.research.google.com/assets/colab-badge.svg\" alt=\"Open In Colab\"/></a>"
      ]
    },
    {
      "cell_type": "markdown",
      "metadata": {
        "id": "mBbJ3xoVKHvB"
      },
      "source": [
        "# Introduction"
      ]
    },
    {
      "cell_type": "markdown",
      "metadata": {
        "id": "akBplfCp9x2y"
      },
      "source": [
        "I will assume the knowledge acquired from the 1st semester course by Rozza and Heltai.\n",
        "\n",
        "Good free book on Scientific Computing with Python:\n",
        "\n",
        "https://link.springer.com/book/10.1007/978-3-030-50356-7\n",
        "\n"
      ]
    },
    {
      "cell_type": "markdown",
      "metadata": {
        "id": "BayxWMT7KA9R"
      },
      "source": [
        "# Python for Scientific Computing: quick recap"
      ]
    },
    {
      "cell_type": "markdown",
      "metadata": {
        "id": "CCo_kCv8KPVo"
      },
      "source": [
        "**Why Python?**\n",
        "\n",
        "    Python is a modern, general-purpose, object-oriented, high-level programming language with huge community of users\n",
        "\n",
        "* No license costs. Immediately available (no installation required) from cloud computing platforms, eg. Google [Colab](https://colab.research.google.com)\n",
        "  * You'll need a Google account to access Google colab\n",
        "\n",
        "* Extensive ecosystem of scientific libraries (modules):\n",
        "  * [numpy](https://www.numpy.org) - Numerical Python\n",
        "  * [scipy](https://www.scipy.org) -  Scientific Python\n",
        "  * [matplotlib](https://www.matplotlib.org) - graphics library\n",
        "  * [petsc4py](https://gitlab.com/petsc/petsc) & [slepc4py](https://gitlab.com/slepc/slepc) - vast range of sequential or parallel linear or nonlinear solvers, time stepping, optimization, and eigensolvers\n",
        "  * [FEniCS](https://www.fenicsproject.org/) & [Firedrake](https://www.firedrakeproject.org) - finite element method (FEM) platforms."
      ]
    },
    {
      "cell_type": "markdown",
      "metadata": {
        "id": "k6JAL9FReFtM"
      },
      "source": [
        "You can get this colab notebook by typing the line:\n",
        "\n",
        "**!git clone https://github.com/andreacangiani/NSPDE-ANA2023.git**"
      ]
    },
    {
      "cell_type": "markdown",
      "metadata": {
        "id": "y_jfqlpVKV6F"
      },
      "source": [
        "**Modules**"
      ]
    },
    {
      "cell_type": "code",
      "execution_count": 68,
      "metadata": {
        "id": "u4mqQfc1KUkG"
      },
      "outputs": [
        {
          "name": "stdout",
          "output_type": "stream",
          "text": [
            "['__doc__', '__file__', '__loader__', '__name__', '__package__', '__spec__', 'acos', 'acosh', 'asin', 'asinh', 'atan', 'atan2', 'atanh', 'cbrt', 'ceil', 'comb', 'copysign', 'cos', 'cosh', 'degrees', 'dist', 'e', 'erf', 'erfc', 'exp', 'exp2', 'expm1', 'fabs', 'factorial', 'floor', 'fmod', 'frexp', 'fsum', 'gamma', 'gcd', 'hypot', 'inf', 'isclose', 'isfinite', 'isinf', 'isnan', 'isqrt', 'lcm', 'ldexp', 'lgamma', 'log', 'log10', 'log1p', 'log2', 'modf', 'nan', 'nextafter', 'perm', 'pi', 'pow', 'prod', 'radians', 'remainder', 'sin', 'sinh', 'sqrt', 'tan', 'tanh', 'tau', 'trunc', 'ulp']\n",
            "Help on built-in function sin in module math:\n",
            "\n",
            "sin(x, /)\n",
            "    Return the sine of x (measured in radians).\n",
            "\n",
            "1.0\n"
          ]
        }
      ],
      "source": [
        "import math\n",
        "\n",
        "print(dir(math))\n",
        "\n",
        "help(math.sin)\n",
        "\n",
        "x = math.sin(math.pi / 2)\n",
        "\n",
        "print(x)\n",
        "\n",
        "del math"
      ]
    },
    {
      "cell_type": "markdown",
      "metadata": {
        "id": "opjg3ti-C5_j"
      },
      "source": [
        "Import just what you need..."
      ]
    },
    {
      "cell_type": "code",
      "execution_count": 69,
      "metadata": {
        "id": "zpxfr_JgJ4iE"
      },
      "outputs": [
        {
          "name": "stdout",
          "output_type": "stream",
          "text": [
            "0.7071067811865475\n"
          ]
        }
      ],
      "source": [
        "from math import sin, pi\n",
        "\n",
        "print(sin(pi/4))"
      ]
    },
    {
      "cell_type": "markdown",
      "metadata": {
        "id": "4lHhLaXVj-Fa"
      },
      "source": [
        "**Variables**\n",
        "Convention: variable names start with a lower-case letter (Class names start with a capital letter)."
      ]
    },
    {
      "cell_type": "code",
      "execution_count": 70,
      "metadata": {
        "id": "Kjwc-K7akIkn"
      },
      "outputs": [
        {
          "name": "stdout",
          "output_type": "stream",
          "text": [
            "<class 'float'>\n",
            "<class 'int'>\n"
          ]
        }
      ],
      "source": [
        "x = pi\n",
        "\n",
        "print(type(x))\n",
        "\n",
        "x = 1\n",
        "\n",
        "print(type(x))"
      ]
    },
    {
      "cell_type": "markdown",
      "metadata": {
        "id": "T9r-DvZ0k9v6"
      },
      "source": [
        "**Operators**\n",
        "\n",
        "* Arithmetic operators:\n",
        "    `+`, `-`, `*`, `/`, `//` (integer division), `**` power\n",
        "\n",
        "* Boolean operators:\n",
        "    `and`, `not`, `or`\n",
        "\n",
        "* Comparison operators:\n",
        "    `>`, `<`, `>=` (greater or equal), `<=` (less or equal), `==` equal, `!=` not equal."
      ]
    },
    {
      "cell_type": "code",
      "execution_count": 71,
      "metadata": {
        "id": "jzUk7ffzlup2"
      },
      "outputs": [
        {
          "name": "stdout",
          "output_type": "stream",
          "text": [
            "8\n"
          ]
        }
      ],
      "source": [
        "print(2**3)"
      ]
    },
    {
      "cell_type": "code",
      "execution_count": 72,
      "metadata": {
        "id": "7bEDZla2ljTV"
      },
      "outputs": [
        {
          "name": "stdout",
          "output_type": "stream",
          "text": [
            "Can something be true and false at the same time???   False\n"
          ]
        }
      ],
      "source": [
        "my_bool = True and False\n",
        "\n",
        "my_string = \"Can something be true and false at the same time???  \"\n",
        "\n",
        "print(my_string, my_bool)"
      ]
    },
    {
      "cell_type": "code",
      "execution_count": 73,
      "metadata": {
        "id": "NQN5JGSsl7Go"
      },
      "outputs": [
        {
          "data": {
            "text/plain": [
              "True"
            ]
          },
          "execution_count": 73,
          "metadata": {},
          "output_type": "execute_result"
        }
      ],
      "source": [
        "3 >= 2"
      ]
    },
    {
      "cell_type": "code",
      "execution_count": 74,
      "metadata": {
        "id": "tFkg4BRvn39e"
      },
      "outputs": [
        {
          "name": "stdout",
          "output_type": "stream",
          "text": [
            "statement1 and statement2 are both False\n"
          ]
        }
      ],
      "source": [
        "statement1 = (3 <= 2)\n",
        "statement2 = (0 == 1)\n",
        "\n",
        "# Note! Indentation based!\n",
        "if statement1:\n",
        "    print(\"statement1 is True\")\n",
        "elif statement2:\n",
        "    print(\"statement2 is True\")\n",
        "else:\n",
        "    print(\"statement1 and statement2 are both False\")"
      ]
    },
    {
      "cell_type": "markdown",
      "metadata": {
        "id": "rx44oesGnETN"
      },
      "source": [
        "**Lists**"
      ]
    },
    {
      "cell_type": "code",
      "execution_count": 75,
      "metadata": {
        "id": "OlgqomiqnY_V"
      },
      "outputs": [],
      "source": [
        "my_list = [1, 2, 3, 4, 5, \"a\"]"
      ]
    },
    {
      "cell_type": "code",
      "execution_count": 76,
      "metadata": {
        "id": "CT5UursenDjg"
      },
      "outputs": [],
      "source": [
        "my_nested_list = [[1, 2], [3, 4, 5]]"
      ]
    },
    {
      "cell_type": "markdown",
      "metadata": {
        "id": "rINUzQH5a-Py"
      },
      "source": [
        "Turning lists into NumPy arrays"
      ]
    },
    {
      "cell_type": "code",
      "execution_count": 77,
      "metadata": {
        "id": "eoQEoZzNbEod"
      },
      "outputs": [
        {
          "name": "stdout",
          "output_type": "stream",
          "text": [
            "[1 2 3 4 5]\n"
          ]
        }
      ],
      "source": [
        "import numpy as np # module for arrays\n",
        "\n",
        "my_list = [1, 2, 3, 4, 5]\n",
        "\n",
        "x = np.array(my_list)\n",
        "\n",
        "print(x)\n"
      ]
    },
    {
      "cell_type": "code",
      "execution_count": 78,
      "metadata": {
        "id": "U0sqkoi1oDjy"
      },
      "outputs": [
        {
          "name": "stdout",
          "output_type": "stream",
          "text": [
            "<class 'numpy.ndarray'>\n"
          ]
        }
      ],
      "source": [
        "print(type(x))"
      ]
    },
    {
      "cell_type": "markdown",
      "metadata": {
        "id": "5ztAn85ipDTZ"
      },
      "source": [
        "**\"for\" and and \"while\" loops**"
      ]
    },
    {
      "cell_type": "code",
      "execution_count": 79,
      "metadata": {
        "id": "89w0KYuepKzb"
      },
      "outputs": [],
      "source": [
        "v = [0, 1, 2, 3]"
      ]
    },
    {
      "cell_type": "code",
      "execution_count": 80,
      "metadata": {
        "id": "R2q82MFAproh"
      },
      "outputs": [
        {
          "name": "stdout",
          "output_type": "stream",
          "text": [
            "0\n",
            "1\n",
            "2\n",
            "3\n",
            "is identical to\n",
            "0\n",
            "1\n",
            "2\n",
            "3\n"
          ]
        }
      ],
      "source": [
        "for x in [0, 1, 2, 3]:\n",
        "    print(x)\n",
        "\n",
        "print(\"is identical to\")\n",
        "\n",
        "for x in range(4):\n",
        "    print(x)"
      ]
    },
    {
      "cell_type": "code",
      "execution_count": 81,
      "metadata": {
        "id": "xWcashocqAoi"
      },
      "outputs": [
        {
          "name": "stdout",
          "output_type": "stream",
          "text": [
            "0\n",
            "1\n",
            "2\n",
            "is identical to\n",
            "0\n",
            "1\n",
            "2\n"
          ]
        }
      ],
      "source": [
        "i = 0\n",
        "while i < 3:\n",
        "    print(i)\n",
        "    i += 1\n",
        "\n",
        "print(\"is identical to\")\n",
        "\n",
        "\n",
        "i = 0\n",
        "while i<len(v)-1:\n",
        "  print(v[i])\n",
        "  i = i + 1"
      ]
    },
    {
      "cell_type": "markdown",
      "metadata": {
        "id": "WTx8xeZG0Edm"
      },
      "source": [
        "Flexible use of for loops"
      ]
    },
    {
      "cell_type": "code",
      "execution_count": 82,
      "metadata": {
        "id": "D6Z45evm0DbL"
      },
      "outputs": [
        {
          "name": "stdout",
          "output_type": "stream",
          "text": [
            "0\n",
            "-2\n",
            "-4\n"
          ]
        }
      ],
      "source": [
        "for x in range(0, -6, -2):\n",
        "    print(x)"
      ]
    },
    {
      "cell_type": "markdown",
      "metadata": {
        "id": "-PneRHVGswD3"
      },
      "source": [
        "**Functions**"
      ]
    },
    {
      "cell_type": "code",
      "execution_count": 83,
      "metadata": {
        "id": "h8gDzlAXsyP5"
      },
      "outputs": [
        {
          "name": "stdout",
          "output_type": "stream",
          "text": [
            "6\n"
          ]
        }
      ],
      "source": [
        "def mult(f1,f2):\n",
        "  # returns product of arguments\n",
        "  return f1*f2\n",
        "\n",
        "print(mult(2,3))"
      ]
    },
    {
      "cell_type": "markdown",
      "metadata": {
        "id": "peJfa8KQ0WJM"
      },
      "source": [
        "Functions with more outputs"
      ]
    },
    {
      "cell_type": "code",
      "execution_count": 84,
      "metadata": {
        "id": "iONh5nizuwgF"
      },
      "outputs": [
        {
          "name": "stdout",
          "output_type": "stream",
          "text": [
            "6 5\n"
          ]
        }
      ],
      "source": [
        "def mult_and_sum (f1,f2):\n",
        "  # returns product of arguments\n",
        "  return f1 * f2, f1 + f2\n",
        "\n",
        "m, s = mult_and_sum(2,3)\n",
        "print(m, s)"
      ]
    },
    {
      "cell_type": "code",
      "execution_count": 85,
      "metadata": {
        "id": "QFQb3CnyvOnR"
      },
      "outputs": [
        {
          "name": "stdout",
          "output_type": "stream",
          "text": [
            "4\n",
            "8\n"
          ]
        }
      ],
      "source": [
        "def powers (x,p=2):\n",
        "  # returns given power\n",
        "  # default is p=2\n",
        "  return x**p\n",
        "\n",
        "print(powers(2))\n",
        "print(powers(2,3))"
      ]
    },
    {
      "cell_type": "markdown",
      "metadata": {
        "id": "0aDBprm1W-_n"
      },
      "source": [
        "Function implementing:\n",
        "$$\n",
        "f(x)=\n",
        "\\left\\{\n",
        "\\begin{array}{l}\n",
        "0,\\quad x<0\\\\\n",
        "x,\\quad 0\\le x<1\\\\\n",
        "2-x,\\quad 1\\le x<2\\\\\n",
        "0,\\quad x\\ge 2\n",
        "\\end{array}\n",
        "\\right.\n",
        "$$"
      ]
    },
    {
      "cell_type": "code",
      "execution_count": 86,
      "metadata": {
        "id": "u9VtP4fcW0IO"
      },
      "outputs": [],
      "source": [
        "def f(x):\n",
        "  if x < 0:\n",
        "    return 0\n",
        "  elif 0 <= x < 1:\n",
        "    return x\n",
        "  elif 1 <= x < 2:\n",
        "    return 2 - x\n",
        "  elif x >= 2:\n",
        "    return 0"
      ]
    },
    {
      "cell_type": "code",
      "execution_count": 87,
      "metadata": {
        "id": "c6aFpMpEXgwV"
      },
      "outputs": [
        {
          "data": {
            "text/plain": [
              "0"
            ]
          },
          "execution_count": 87,
          "metadata": {},
          "output_type": "execute_result"
        }
      ],
      "source": [
        "f(3)"
      ]
    },
    {
      "cell_type": "markdown",
      "metadata": {
        "id": "XA6nbJRZYOLY"
      },
      "source": [
        "Lambda functions are one-line functions:"
      ]
    },
    {
      "cell_type": "code",
      "execution_count": 88,
      "metadata": {
        "id": "q4GnRg2oYRor"
      },
      "outputs": [
        {
          "name": "stdout",
          "output_type": "stream",
          "text": [
            "-6\n"
          ]
        }
      ],
      "source": [
        "f = lambda x, y, z: x**2 + y - z\n",
        "\n",
        "print(f(1,1, 8))"
      ]
    },
    {
      "cell_type": "markdown",
      "metadata": {
        "id": "FB4a1DObQMbu"
      },
      "source": [
        "# Divided Difference formulas"
      ]
    },
    {
      "cell_type": "markdown",
      "metadata": {
        "id": "bIJ5aiUXQUCw"
      },
      "source": [
        "Implement basic divided difference formulas:\n",
        "\n",
        "$\\delta_{h,+} f (x)= \\frac{f(x+h)-f(x)}{h}  \\quad$    (FD)\n",
        "\n",
        "$\\delta_{h,-} f (x)= \\frac{f(x)-f(x-h)}{h}  \\quad$    (BD)\n",
        "\n",
        "$\\delta_{h} f (x)= \\frac{f(x+h/2)-f(x-h/2)}{h}  \\quad$    (CD)"
      ]
    },
    {
      "cell_type": "code",
      "execution_count": 89,
      "metadata": {
        "id": "Zg8AZ_0fQYfj"
      },
      "outputs": [],
      "source": [
        "import matplotlib\n",
        "#pylap inline\n",
        "import sympy as sym"
      ]
    },
    {
      "cell_type": "markdown",
      "metadata": {
        "id": "ga_xZeCIp-8r"
      },
      "source": [
        "Implement backward formula"
      ]
    },
    {
      "cell_type": "code",
      "execution_count": 90,
      "metadata": {
        "id": "iapXY_9NTPuV"
      },
      "outputs": [],
      "source": [
        "def back_diff(x,h,f):\n",
        "  return (f(x)-f(x-h))/h"
      ]
    },
    {
      "cell_type": "code",
      "execution_count": 91,
      "metadata": {
        "id": "C101-BUHTkS5"
      },
      "outputs": [
        {
          "name": "stdout",
          "output_type": "stream",
          "text": [
            "0.5\n"
          ]
        }
      ],
      "source": [
        "t = sym.var('t')\n",
        "fsym = 0.5 * t**2\n",
        "fdsym = fsym.diff(t,1)\n",
        "f = sym.lambdify(t,fsym)\n",
        "fd = sym.lambdify(t,fdsym)\n",
        "\n",
        "x=0.5\n",
        "print(fd(x))\n"
      ]
    },
    {
      "cell_type": "code",
      "execution_count": 92,
      "metadata": {
        "id": "CpVKf6jwUPYF"
      },
      "outputs": [
        {
          "name": "stdout",
          "output_type": "stream",
          "text": [
            "0.49994999999997125\n"
          ]
        }
      ],
      "source": [
        "h=0.0001\n",
        "print(back_diff(x,h,f))\n"
      ]
    },
    {
      "cell_type": "markdown",
      "metadata": {
        "id": "pha5coziRgwq"
      },
      "source": [
        "Check rate of convergence"
      ]
    },
    {
      "cell_type": "code",
      "execution_count": 93,
      "metadata": {
        "id": "9xlANFxQRh4i"
      },
      "outputs": [
        {
          "name": "stdout",
          "output_type": "stream",
          "text": [
            "[-1. -1. -1. -1. -1. -1. -1.]\n"
          ]
        }
      ],
      "source": [
        "x=0.5\n",
        "nexp = 8\n",
        "error = np.zeros(nexp)\n",
        "\n",
        "for i in range(nexp):\n",
        "  n = 2**(i+1)\n",
        "  h = 1/n\n",
        "  bd = back_diff(x,h,f)\n",
        "  error[i] = abs(fd(x)-bd)\n",
        "\n",
        "\n",
        "print(np.log(error[1:nexp]/error[0:nexp-1])/np.log(2))"
      ]
    },
    {
      "cell_type": "markdown",
      "metadata": {
        "id": "nHTvDZoVU8Fm"
      },
      "source": [
        "Let us now fix a grid and compute the FD in matrix form"
      ]
    },
    {
      "cell_type": "code",
      "execution_count": 94,
      "metadata": {
        "id": "nNphS0QbU6Pg"
      },
      "outputs": [
        {
          "name": "stdout",
          "output_type": "stream",
          "text": [
            "[0.  0.2 0.4 0.6 0.8 1. ]\n"
          ]
        }
      ],
      "source": [
        "a = 0\n",
        "b = 1\n",
        "n = 5\n",
        "\n",
        "h = (b-a) / n\n",
        "\n",
        "x = np.linspace(a,b,n+1)\n",
        "\n",
        "print(x)"
      ]
    },
    {
      "cell_type": "markdown",
      "metadata": {
        "id": "73bxJxG9uvuK"
      },
      "source": [
        "Implement FD in matrix form"
      ]
    },
    {
      "cell_type": "code",
      "execution_count": 95,
      "metadata": {
        "id": "CqxUkXikVmMv"
      },
      "outputs": [],
      "source": [
        "fd = np.zeros((n+1,n+1))\n",
        "\n",
        "for i in range(n):\n",
        "  fd[i,i] = -1\n",
        "  fd[i,i+1] = 1\n",
        "\n",
        "fd = fd / h"
      ]
    },
    {
      "cell_type": "code",
      "execution_count": 96,
      "metadata": {
        "id": "OCgBlhH2W19J"
      },
      "outputs": [
        {
          "name": "stdout",
          "output_type": "stream",
          "text": [
            "[[-5.  5.  0.  0.  0.  0.]\n",
            " [ 0. -5.  5.  0.  0.  0.]\n",
            " [ 0.  0. -5.  5.  0.  0.]\n",
            " [ 0.  0.  0. -5.  5.  0.]\n",
            " [ 0.  0.  0.  0. -5.  5.]\n",
            " [ 0.  0.  0.  0.  0.  0.]]\n"
          ]
        }
      ],
      "source": [
        "print(fd)"
      ]
    },
    {
      "cell_type": "code",
      "execution_count": 97,
      "metadata": {
        "id": "zAdWMCDFXgGx"
      },
      "outputs": [],
      "source": [
        "u = f(x)\n",
        "\n",
        "u_x = fd.dot(u)[0:n]"
      ]
    },
    {
      "cell_type": "code",
      "execution_count": 98,
      "metadata": {
        "id": "ZbccY6SCYA7Y"
      },
      "outputs": [
        {
          "name": "stdout",
          "output_type": "stream",
          "text": [
            "[0.  0.2 0.4 0.6 0.8]\n",
            "[0.1 0.3 0.5 0.7 0.9]\n"
          ]
        }
      ],
      "source": [
        "print(x[0:n])\n",
        "print(u_x)"
      ]
    },
    {
      "cell_type": "markdown",
      "metadata": {
        "id": "0_6uGXlKYWut"
      },
      "source": [
        "Let's check convergence!"
      ]
    },
    {
      "cell_type": "code",
      "execution_count": 99,
      "metadata": {
        "id": "zHjNBVcVxQ2E"
      },
      "outputs": [],
      "source": [
        "def fd(a,b,n):\n",
        "  h = (b-a) / n\n",
        "  fd = np.zeros((n+1,n+1))\n",
        "\n",
        "  for i in range(n):\n",
        "    fd[i,i] = -1\n",
        "    fd[i,i+1] = 1\n",
        "\n",
        "  return fd / h\n"
      ]
    },
    {
      "cell_type": "code",
      "execution_count": 100,
      "metadata": {
        "id": "nntsQJ1iYWYk"
      },
      "outputs": [],
      "source": [
        "t = sym.var('t')\n",
        "my_f = sym.sin(t)\n",
        "fsym = sym.lambdify(t, my_f)\n",
        "fsym_x = sym.lambdify(t, my_f.diff(t,1))\n",
        "\n",
        "no_expe = 8\n",
        "error = np.zeros(no_expe)\n",
        "nn = np.zeros(no_expe)\n",
        "\n",
        "for i in range(no_expe):\n",
        "  n = 2**(i+1)\n",
        "  nn[i] = n\n",
        "  x = np.linspace(a,b,n+1)\n",
        "  fd_mat = fd(a,b,n)\n",
        "  u_x = fd_mat.dot(fsym(x))[1:n]\n",
        "  error[i] = max (abs(u_x-fsym_x(x)[1:n]))\n",
        "\n",
        "\n",
        "\n"
      ]
    },
    {
      "cell_type": "markdown",
      "metadata": {
        "id": "D-1XrpvSDcbM"
      },
      "source": [
        "Print error"
      ]
    },
    {
      "cell_type": "code",
      "execution_count": 101,
      "metadata": {
        "id": "XC5lNADiaqfj"
      },
      "outputs": [
        {
          "name": "stdout",
          "output_type": "stream",
          "text": [
            "[0.15349167 0.09235997 0.049577   0.02556705 0.01296891 0.00652962\n",
            " 0.00327595 0.00164074]\n"
          ]
        }
      ],
      "source": [
        "print(error)"
      ]
    },
    {
      "cell_type": "markdown",
      "metadata": {
        "id": "MRtULS1K0tQ0"
      },
      "source": [
        "Plot error"
      ]
    },
    {
      "cell_type": "code",
      "execution_count": 102,
      "metadata": {
        "id": "3B-ADTlbax1O"
      },
      "outputs": [
        {
          "data": {
            "text/plain": [
              "[<matplotlib.lines.Line2D at 0x16b32e310>]"
            ]
          },
          "execution_count": 102,
          "metadata": {},
          "output_type": "execute_result"
        },
        {
          "data": {
            "image/png": "[encoded data removed]",
            "text/plain": [
              "<Figure size 640x480 with 1 Axes>"
            ]
          },
          "metadata": {},
          "output_type": "display_data"
        }
      ],
      "source": [
        "import matplotlib.pyplot\n",
        "\n",
        "matplotlib.pyplot.loglog(nn,error) # log-log plot of error\n",
        "\n",
        "matplotlib.pyplot.loglog(nn,nn**(-1)) # log-log plot of 1/n"
      ]
    },
    {
      "cell_type": "markdown",
      "metadata": {
        "id": "JDLHaPvl9-0k"
      },
      "source": [
        "**Exercise 1** Implement the BD and CD formulas in matrix form as done for the FD formula. Display in the same plot the error obtained with all three formulas to verify the theoretical order of convergence."
      ]
    },
    {
      "cell_type": "code",
      "execution_count": 103,
      "metadata": {},
      "outputs": [
        {
          "data": {
            "image/png": "[encoded data removed]",
            "text/plain": [
              "<Figure size 640x480 with 1 Axes>"
            ]
          },
          "metadata": {},
          "output_type": "display_data"
        }
      ],
      "source": [
        "# Implement the BD formula in matrix form\n",
        "def bd(a,b,n):\n",
        "  h = (b-a) / n\n",
        "  bd = np.zeros((n+1,n+1))\n",
        "\n",
        "  for i in range(n):\n",
        "    bd[i,i] = 1\n",
        "    if i > 0:\n",
        "      bd[i,i-1] = -1\n",
        "\n",
        "  return bd / h\n",
        "\n",
        "# Implement the CD formula in matrix form\n",
        "def cd(a,b,n):\n",
        "  h = (b-a) / n\n",
        "  cd = np.zeros((n+1,n+1))\n",
        "\n",
        "  for i in range(n):\n",
        "    cd[i,i] = 0\n",
        "    cd[i,i+1] = 1\n",
        "    if i > 0:\n",
        "      cd[i,i-1] = -1\n",
        "\n",
        "  return cd / (2*h)\n",
        "\n",
        "# Display in the same plot the error of the FD, BD and CD formulas to verify the order of convergence\n",
        "t = sym.var('t')\n",
        "my_f = sym.sin(t)\n",
        "fsym = sym.lambdify(t, my_f)\n",
        "fsym_x = sym.lambdify(t, my_f.diff(t,1))\n",
        "\n",
        "no_expe = 8\n",
        "error_fd = np.zeros(no_expe)\n",
        "error_bd = np.zeros(no_expe)\n",
        "error_cd = np.zeros(no_expe)\n",
        "nn = np.zeros(no_expe)\n",
        "\n",
        "for i in range(no_expe):\n",
        "  n = 2**(i+1)\n",
        "  nn[i] = n\n",
        "  x = np.linspace(a,b,n+1)\n",
        "  fd_mat = fd(a,b,n)\n",
        "  bd_mat = bd(a,b,n)\n",
        "  cd_mat = cd(a,b,n)\n",
        "  u_x_fd = fd_mat.dot(fsym(x))[1:n]\n",
        "  u_x_bd = bd_mat.dot(fsym(x))[1:n]\n",
        "  u_x_cd = cd_mat.dot(fsym(x))[1:n]\n",
        "  error_fd[i] = max (abs(u_x_fd-fsym_x(x)[1:n]))\n",
        "  error_bd[i] = max (abs(u_x_bd-fsym_x(x)[1:n]))\n",
        "  error_cd[i] = max (abs(u_x_cd-fsym_x(x)[1:n]))\n",
        "\n",
        "matplotlib.pyplot.loglog(nn,error_fd)\n",
        "matplotlib.pyplot.loglog(nn,error_bd)\n",
        "matplotlib.pyplot.loglog(nn,nn**(-1), linestyle='--')\n",
        "matplotlib.pyplot.loglog(nn,error_cd)\n",
        "matplotlib.pyplot.loglog(nn,nn**(-2), linestyle='--')\n",
        "matplotlib.pyplot.legend(['FD','BD','1/n','CD','1/n^2'])\n",
        "matplotlib.pyplot.xlabel('n')\n",
        "matplotlib.pyplot.ylabel('error')\n",
        "matplotlib.pyplot.title('Convergence of finite difference formulas')\n",
        "matplotlib.pyplot.show()\n"
      ]
    },
    {
      "cell_type": "markdown",
      "metadata": {
        "id": "vAuJ4Foz_m2D"
      },
      "source": [
        "**Exercise 2** Look up in Chapter 3 of the typed lecture notes NSPDE.pdf the one-sided second order formulas for the approximation of first derivatives. Implement these formulas. Compare these formulas with the CD formula by plotting errors as before in a single loglog plot. Comment your results."
      ]
    },
    {
      "cell_type": "code",
      "execution_count": 119,
      "metadata": {},
      "outputs": [
        {
          "data": {
            "image/png": "[encoded data removed]",
            "text/plain": [
              "<Figure size 640x480 with 1 Axes>"
            ]
          },
          "metadata": {},
          "output_type": "display_data"
        }
      ],
      "source": [
        "# Implement the BD second order formula in matrix form\n",
        "def bd2(a,b,n):\n",
        "  h = (b-a) / n\n",
        "  bd2 = np.zeros((n+1,n+1))\n",
        "\n",
        "  for i in range(2,n+1):\n",
        "    bd2[i,i] = 3\n",
        "    bd2[i,i-1] = -4\n",
        "    bd2[i,i-2] = 1\n",
        "\n",
        "  return bd2 / (2*h)\n",
        "\n",
        "# Implement the FD second order formula in matrix form\n",
        "def fd2(a,b,n):\n",
        "  h = (b-a) / n\n",
        "  fd2 = np.zeros((n+1,n+1))\n",
        "\n",
        "  for i in range(n-1):\n",
        "    fd2[i,i] = -3\n",
        "    fd2[i,i+1] = +4\n",
        "    fd2[i,i+2] = -1\n",
        "\n",
        "  return fd2 / (2*h)\n",
        "\n",
        "# Display in the same loglog plot the error of the FD2, BD2 and CD formulas to compare them\n",
        "t = sym.var('t')\n",
        "my_f = sym.sin(t)\n",
        "fsym = sym.lambdify(t, my_f)\n",
        "fsym_x = sym.lambdify(t, my_f.diff(t,1))\n",
        "\n",
        "no_expe = 8\n",
        "error_fd2 = np.zeros(no_expe)\n",
        "error_bd2 = np.zeros(no_expe)\n",
        "error_cd = np.zeros(no_expe)\n",
        "nn = np.zeros(no_expe)\n",
        "\n",
        "for i in range(no_expe):\n",
        "  n = 2**(i+1)\n",
        "  nn[i] = n\n",
        "  x = np.linspace(a,b,n+1)\n",
        "  fd2_mat = fd2(a,b,n)\n",
        "  bd2_mat = bd2(a,b,n)\n",
        "  cd_mat = cd(a,b,n)\n",
        "  u_x_fd2 = fd2_mat@fsym(x)\n",
        "  u_x_bd2 = bd2_mat@fsym(x)\n",
        "  u_x_cd = cd_mat@fsym(x)\n",
        "  error_fd2[i] = max (abs(u_x_fd2[0:n-1]-fsym_x(x)[0:n-1]))\n",
        "  error_bd2[i] = max (abs(u_x_bd2[2:n+1]-fsym_x(x)[2:n+1]))\n",
        "  error_cd[i] = max (abs(u_x_cd[1:n]-fsym_x(x)[1:n]))\n",
        "  \n",
        "matplotlib.pyplot.loglog(nn,error_fd2)\n",
        "matplotlib.pyplot.loglog(nn,error_bd2)\n",
        "matplotlib.pyplot.loglog(nn,error_cd)\n",
        "matplotlib.pyplot.loglog(nn,nn**(-2), linestyle='--')\n",
        "matplotlib.pyplot.legend(['FD2','BD2','CD','1/n^2'])\n",
        "matplotlib.pyplot.xlabel('n')\n",
        "matplotlib.pyplot.ylabel('error')\n",
        "matplotlib.pyplot.title('Comparison with second order formulas')\n",
        "matplotlib.pyplot.show()\n"
      ]
    },
    {
      "cell_type": "markdown",
      "metadata": {},
      "source": [
        "As expected, also the one-sided second order formulas have the same order of convergence as the CD formula, which is $O(h^2)$. However, again as expected from the theory, the constants in the error bounds are bigger in the case of the one-sided formulas. In fact, as can be seen from the plot, the error is bigger for the one-sided formulas than for the CD formula for the same value of $h$. We must also note that the one-sided formulas require three function evaluations, while the CD formula requires only two."
      ]
    },
    {
      "cell_type": "markdown",
      "metadata": {
        "id": "6jeKUl-b_oTw"
      },
      "source": [
        "**Exercise 3** Repeat Exercise 2 this time considering the centered and one sided formulas for the approximation of the second derivative also found in the lecture notes."
      ]
    },
    {
      "cell_type": "code",
      "execution_count": 147,
      "metadata": {},
      "outputs": [
        {
          "data": {
            "image/png": "[encoded data removed]",
            "text/plain": [
              "<Figure size 640x480 with 1 Axes>"
            ]
          },
          "metadata": {},
          "output_type": "display_data"
        }
      ],
      "source": [
        "# Implement the second central divided difference formula in matrix form\n",
        "def cdd(a,b,n):\n",
        "  h = (b-a) / n\n",
        "  cdd = np.zeros((n+1,n+1))\n",
        "\n",
        "  for i in range(1,n):\n",
        "    cdd[i,i] = -2\n",
        "    cdd[i,i+1] = 1\n",
        "    cdd[i,i-1] = 1\n",
        "\n",
        "  return cdd / (h**2)\n",
        "\n",
        "# Implement the one-sided formula for the second derivative in matrix form (forward)\n",
        "def fd2s(a,b,n):\n",
        "  h = (b-a) / n\n",
        "  fd2s = np.zeros((n+1,n+1))\n",
        "\n",
        "  for i in range(n-2):\n",
        "    fd2s[i,i] = 2\n",
        "    fd2s[i,i+1] = -5\n",
        "    fd2s[i,i+2] = 4\n",
        "    fd2s[i,i+3] = -1\n",
        "\n",
        "  return fd2s / (h**2)\n",
        "\n",
        "# Implement the one-sided formula for the second derivative in matrix form (backward)\n",
        "def bd2s(a,b,n):\n",
        "  h = (b-a) / n\n",
        "  bd2s = np.zeros((n+1,n+1))\n",
        "\n",
        "  for i in range(3,n+1):\n",
        "    bd2s[i,i] = 2\n",
        "    bd2s[i,i-1] = -5\n",
        "    bd2s[i,i-2] = 4\n",
        "    bd2s[i,i-3] = -1\n",
        "\n",
        "  return bd2s / (h**2)\n",
        "\n",
        "# Display in the loglog plot the error of the three formulas to compare them\n",
        "t = sym.var('t')\n",
        "my_f = sym.sin(t)\n",
        "fsym = sym.lambdify(t, my_f)\n",
        "fsym_x = sym.lambdify(t, my_f.diff(t,2))\n",
        "\n",
        "no_expe = 8\n",
        "error_fd2s = np.zeros(no_expe)\n",
        "error_bd2s = np.zeros(no_expe)\n",
        "error_cdd = np.zeros(no_expe)\n",
        "nn = np.zeros(no_expe)\n",
        "\n",
        "for i in range(no_expe):\n",
        "  n = 2**(i+1)\n",
        "  nn[i] = n\n",
        "  x = np.linspace(a,b,n+1)\n",
        "  fd2s_mat = fd2s(a,b,n)\n",
        "  bd2s_mat = bd2s(a,b,n)\n",
        "  cdd_mat = cdd(a,b,n)\n",
        "  u_x_fd2s = fd2s_mat@fsym(x)\n",
        "  u_x_bd2s = bd2s_mat@fsym(x)\n",
        "  u_x_cdd = cdd_mat@fsym(x)\n",
        "  if n>2:\n",
        "    error_fd2s[i] = max (abs(u_x_fd2s[:n-2]-fsym_x(x)[:n-2]))\n",
        "    error_bd2s[i] = max (abs(u_x_bd2s[3:n+1]-fsym_x(x)[3:n+1]))\n",
        "  error_cdd[i] = max (abs(u_x_cdd[1:n]-fsym_x(x)[1:n]))\n",
        "  \n",
        "matplotlib.pyplot.loglog(nn[1:],error_fd2s[1:])\n",
        "matplotlib.pyplot.loglog(nn[1:],error_bd2s[1:])\n",
        "matplotlib.pyplot.loglog(nn,error_cdd)\n",
        "matplotlib.pyplot.loglog(nn,nn**(-2), linestyle='--')\n",
        "matplotlib.pyplot.legend(['FD2s','BD2s','CDD','1/n^2'])\n",
        "matplotlib.pyplot.xlabel('n')\n",
        "matplotlib.pyplot.ylabel('error')\n",
        "matplotlib.pyplot.title('Second derivative formulas')\n",
        "matplotlib.pyplot.show()\n",
        "\n"
      ]
    },
    {
      "cell_type": "markdown",
      "metadata": {},
      "source": [
        "Also in this case, as expected, all the formulas have the same order of accuracy, which is $O(h^2)$. However, the constants in the error bounds are bigger for the one-sided formulas. The one-sided formulas require four function evaluations, while the centered formulas require only three."
      ]
    }
  ],
  "metadata": {
    "colab": {
      "include_colab_link": true,
      "provenance": []
    },
    "kernelspec": {
      "display_name": "Python 3",
      "name": "python3"
    },
    "language_info": {
      "codemirror_mode": {
        "name": "ipython",
        "version": 3
      },
      "file_extension": ".py",
      "mimetype": "text/x-python",
      "name": "python",
      "nbconvert_exporter": "python",
      "pygments_lexer": "ipython3",
      "version": "3.11.6"
    }
  },
  "nbformat": 4,
  "nbformat_minor": 0
}

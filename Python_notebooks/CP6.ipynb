{
 "cells": [
  {
   "cell_type": "markdown",
   "metadata": {
    "id": "kmGtV67jT5OB"
   },
   "source": [
    "# Finite Element Method in 1D - any order"
   ]
  },
  {
   "cell_type": "markdown",
   "metadata": {
    "id": "n4E6Q4iET_cv"
   },
   "source": [
    "Finite Element Method solver of any order $k$ for the 1D Poisson problem:\n",
    "\n",
    "$-u''=f \\quad \\text{in } \\Omega=(a,b)$\n",
    "\n",
    "$u|_{\\partial\\Omega}=0$"
   ]
  },
  {
   "cell_type": "code",
   "execution_count": 56,
   "metadata": {
    "id": "5asorKOcUHgn"
   },
   "outputs": [],
   "source": [
    "import numpy as np\n",
    "import matplotlib.pyplot as plt\n",
    "import scipy.sparse as sp\n",
    "from scipy.sparse.linalg import spsolve\n",
    "import sympy as sym"
   ]
  },
  {
   "cell_type": "code",
   "execution_count": 57,
   "metadata": {
    "id": "orF2hMSNUNzv"
   },
   "outputs": [],
   "source": [
    "# Gauss quadrature formula on [0,1]\n",
    "def quadrature(n_quadrature_points):\n",
    "\n",
    "  # use numpy Gauss quadrature. This is defined in [-1,1]\n",
    "  q, w = np.polynomial.legendre.leggauss(n_quadrature_points)\n",
    "\n",
    "  return (q+1)/2, w/2"
   ]
  },
  {
   "cell_type": "code",
   "execution_count": 58,
   "metadata": {
    "id": "2sYL59PETqf0"
   },
   "outputs": [],
   "source": [
    "# The reference element is [0,1]. We construct the mappings, the determinant of their Jacobians, and the\n",
    "# reference Basis functions\n",
    "# by L. Heltai\n",
    "\n",
    "def mapping(q, i):\n",
    "    \"\"\"\n",
    "    Returns the mapping from [0,1] to T_k := [q[k], q[k+1]]\n",
    "    \"\"\"\n",
    "    assert i < len(q)-1\n",
    "    assert i >= 0\n",
    "    return lambda x: q[i]+x*(q[i+1]-q[i])\n",
    "\n",
    "def mapping_J(q,i):\n",
    "    assert i < len(q)-1\n",
    "    assert i >= 0\n",
    "    return (q[i+1]-q[i])\n",
    "\n",
    "def lagrange_basis(q, i):\n",
    "    assert i < len(q)\n",
    "    assert i >= 0\n",
    "    return lambda x: np.prod([(x-q[j])/(q[i]-q[j]) for j in range(len(q)) if i!=j], axis=0)\n",
    "\n",
    "# Workaround, to allow lambdify to work also on constant expressions\n",
    "def np_lambdify(varname, func):\n",
    "    lamb = sym.lambdify(varname, func, modules=['numpy'])\n",
    "    if func.is_constant():\n",
    "        return lambda t: np.full_like(t, lamb(t))\n",
    "    else:\n",
    "        return lambda t: lamb(np.array(t))\n",
    "\n",
    "def lagrange_basis_derivative(q,i,order=1):\n",
    "    t = sym.var('t')\n",
    "    return np_lambdify(t, lagrange_basis(q,i)(t).diff(t,order))"
   ]
  },
  {
   "cell_type": "code",
   "execution_count": 59,
   "metadata": {
    "id": "vJ_D10wacmBz"
   },
   "outputs": [],
   "source": [
    "def mesh(omega,N):\n",
    "\n",
    "  return np.linspace(omega[0],omega[1],N+1)"
   ]
  },
  {
   "cell_type": "markdown",
   "metadata": {
    "id": "yulFfPrzcpWw"
   },
   "source": [
    "FEM code any order"
   ]
  },
  {
   "cell_type": "code",
   "execution_count": 60,
   "metadata": {
    "id": "knoV9bt2ckfC"
   },
   "outputs": [],
   "source": [
    "def FEM(omega,M,degree,n_qpoints,rhs):\n",
    "  # 1D FEM with k=degree system matrix and rhs for\n",
    "  # diffusion problem\n",
    "\n",
    "  # Dimension of the problem\n",
    "  N = M * degree +1\n",
    "\n",
    "  # grid\n",
    "  vertices = mesh(omega,M)\n",
    "\n",
    "  # reference element (quadrature and Lagrange points)\n",
    "  q, w = quadrature(n_qpoints)\n",
    "  lagrange_points = np.linspace(0,1, degree+1)\n",
    "\n",
    "  # Evaluation of Lagrange basis\n",
    "  phi = np.array([lagrange_basis(lagrange_points,i)(q) for i in range(degree+1)]).T\n",
    "  dphi = np.array([lagrange_basis_derivative(lagrange_points,i)(q) for i in range(degree+1)]).T\n",
    "\n",
    "  # initialise system\n",
    "  A = sp.lil_matrix((N,N))\n",
    "  F = np.zeros(N)\n",
    "\n",
    "  # Assembly loop\n",
    "  for i in range(M):\n",
    "    JxW = mapping_J(vertices, i) * w\n",
    "    ele_A = np.einsum('qi,qj,q',dphi,dphi,JxW) / mapping_J(vertices,i)**2\n",
    "    ele_F = np.einsum('qi,q,q',phi,rhs(mapping(vertices,i)(q)),JxW)\n",
    "\n",
    "    # Assembly local-to-global\n",
    "    j = i * degree\n",
    "    m = j + degree + 1\n",
    "    A[j:m,j:m] += ele_A\n",
    "    F[j:m] += ele_F\n",
    "\n",
    "\n",
    "  return A, F"
   ]
  },
  {
   "cell_type": "markdown",
   "metadata": {
    "id": "Ui5EW0VGc8Ed"
   },
   "source": [
    "Apply boundary conditions"
   ]
  },
  {
   "cell_type": "code",
   "execution_count": 61,
   "metadata": {
    "id": "XxN3dlxOc6Df"
   },
   "outputs": [],
   "source": [
    "def apply_boundary_conditions(omega,A, F, g):\n",
    "  # Ideally should scale entries as those of A\n",
    "  N = A.shape[0] - 1\n",
    "  A[0,A[0].nonzero()] = 0; A[0,0] = 1;  F[0]=g(omega[0])\n",
    "  A[N,A[N].nonzero()] = 0; A[N,N] = 1; F[N]=g(omega[1])"
   ]
  },
  {
   "cell_type": "markdown",
   "metadata": {
    "id": "K-Bi-KG-c97-"
   },
   "source": [
    "and solve"
   ]
  },
  {
   "cell_type": "code",
   "execution_count": 62,
   "metadata": {
    "id": "BB_Cz-Ubd3A_"
   },
   "outputs": [],
   "source": [
    "# Problem\n",
    "omega = [0,np.pi]\n",
    "rhs = lambda x: np.sin(x)\n",
    "sol = lambda x: np.sin(x)\n",
    "\n",
    "# degree of FEM basis\n",
    "degree = 3\n",
    "\n",
    "# Number of quadrature points\n",
    "n_qpoints = 2*degree-1\n",
    "\n",
    "# Number of experiments\n",
    "no_experiments = 7\n",
    "\n",
    "# Initialize\n",
    "MM = np.zeros(no_experiments)\n",
    "discrete_max_err = np.zeros(no_experiments)\n",
    "\n",
    "# Solution loop\n",
    "for i in range(no_experiments):\n",
    "  M = 2**(i+2)\n",
    "  MM[i] = M\n",
    "  N = M*degree+1\n",
    "\n",
    "  # call function computing FEM system\n",
    "  A, F = FEM(omega,M,degree,n_qpoints,rhs)\n",
    "\n",
    "  # and apply boundary conditions\n",
    "  apply_boundary_conditions(omega,A, F, sol)\n",
    "\n",
    "  # Solve the system\n",
    "  Uh = sp.linalg.spsolve(A,F)\n",
    "\n",
    "  # Compute exact solution\n",
    "  x=np.linspace(omega[0],omega[1],N)\n",
    "  U=sol(x)\n",
    "\n",
    "  # Compute discrete max norm error\n",
    "  discrete_max_err[i] = max(abs(U-Uh))\n"
   ]
  },
  {
   "cell_type": "code",
   "execution_count": 63,
   "metadata": {
    "colab": {
     "base_uri": "https://localhost:8080/",
     "height": 452
    },
    "id": "WMXxzNqcd-gX",
    "outputId": "7974f02f-b8ce-4c40-f6b6-4b71ed381f80"
   },
   "outputs": [
    {
     "data": {
      "text/plain": [
       "[<matplotlib.lines.Line2D at 0x17f7c4590>]"
      ]
     },
     "execution_count": 63,
     "metadata": {},
     "output_type": "execute_result"
    },
    {
     "data": {
      "image/png": "[encoded data removed]",
      "text/plain": [
       "<Figure size 640x480 with 1 Axes>"
      ]
     },
     "metadata": {},
     "output_type": "display_data"
    }
   ],
   "source": [
    "# Error loglog plots\n",
    "plt.loglog(MM,discrete_max_err,'o-')\n",
    "plt.loglog(MM,MM**(-(degree+1)),'r')"
   ]
  },
  {
   "cell_type": "code",
   "execution_count": 64,
   "metadata": {
    "colab": {
     "base_uri": "https://localhost:8080/"
    },
    "id": "CywBOvHp69bH",
    "outputId": "31bd6c02-1b93-422e-f6d2-2eb687c5d3dd"
   },
   "outputs": [
    {
     "name": "stdout",
     "output_type": "stream",
     "text": [
      "[  4.   8.  16.  32.  64. 128. 256.]\n"
     ]
    }
   ],
   "source": [
    "print(MM)"
   ]
  },
  {
   "cell_type": "markdown",
   "metadata": {
    "id": "CEoxSSHpeFxl"
   },
   "source": [
    "**Exercise 1**: Write function computing $H^1$-norm error and test convergence for $k>1$."
   ]
  },
  {
   "cell_type": "code",
   "execution_count": 65,
   "metadata": {},
   "outputs": [],
   "source": [
    "# Function to compute the H1-norm error\n",
    "def FEM_H1_error(omega,M,degree,n_qpoints,Uh,sol):\n",
    "\n",
    "  # grid\n",
    "  vertices = mesh(omega,M)\n",
    "\n",
    "  # reference element (quadrature and Lagrange points)\n",
    "  q, w = quadrature(n_qpoints)\n",
    "  lagrange_points = np.linspace(0,1, degree+1)\n",
    "\n",
    "  # Evaluation of Lagrange basis derivatives\n",
    "  dphi = np.array([lagrange_basis_derivative(lagrange_points,i)(q) for i in range(degree+1)]).T\n",
    "  \n",
    "  # Initialise error\n",
    "  h1_error = 0.0\n",
    "  \n",
    "  # Assembly error loop\n",
    "  for i in range(M):\n",
    "    JxW = mapping_J(vertices, i) * w\n",
    "    local_to_global = lambda k: i*degree+k\n",
    "    \n",
    "    # Map quadrature points to physical domain\n",
    "    x_q = mapping(vertices,i)(q)\n",
    "    \n",
    "    # Exact solution derivatives\n",
    "    exact_derivative = sol(x_q)\n",
    "    \n",
    "    # Compute the derivative of the approximate solution\n",
    "    Uh_derivative = (np.dot(Uh[[local_to_global(k) for k in range(degree+1)]],dphi.T))/(mapping_J(vertices,i))\n",
    "    \n",
    "    # Compute the error\n",
    "    h1_error += np.sum((exact_derivative - Uh_derivative)**2 * JxW)\n",
    "    \n",
    "  return np.sqrt(h1_error)"
   ]
  },
  {
   "cell_type": "code",
   "execution_count": 70,
   "metadata": {},
   "outputs": [
    {
     "data": {
      "image/png": "[encoded data removed]",
      "text/plain": [
       "<Figure size 640x480 with 1 Axes>"
      ]
     },
     "metadata": {},
     "output_type": "display_data"
    }
   ],
   "source": [
    "# Problem\n",
    "omega = [0,np.pi]\n",
    "rhs = lambda x: np.sin(x)\n",
    "exact_derivative = lambda x: np.cos(x)\n",
    "\n",
    "# degree of FEM basis\n",
    "degree = 3\n",
    "\n",
    "# Number of quadrature points\n",
    "n_qpoints = 2*degree-1\n",
    "\n",
    "# Number of experiments\n",
    "no_experiments = 7\n",
    "\n",
    "# Initialize\n",
    "MM = np.zeros(no_experiments)\n",
    "Err = np.zeros(no_experiments)\n",
    "\n",
    "# Experiments loop\n",
    "for i in range(no_experiments):\n",
    "  M = 2**(i+2)\n",
    "  MM[i] = M\n",
    "  N = M*degree+1\n",
    "\n",
    "  # Call function computing FEM system\n",
    "  A, F = FEM(omega,M,degree,n_qpoints,rhs)\n",
    "\n",
    "  # Apply boundary conditions\n",
    "  apply_boundary_conditions(omega,A, F, sol)\n",
    "\n",
    "  # Solve the system\n",
    "  Uh = sp.linalg.spsolve(A,F)\n",
    "\n",
    "  # Compute H1-norm error\n",
    "  Err[i] = FEM_H1_error(omega,M,degree,n_qpoints,Uh,exact_derivative)\n",
    "  \n",
    "# Error loglog plots\n",
    "plt.loglog(MM,Err,'o-', label='H1-norm error')\n",
    "plt.loglog(MM,MM**(-(degree)),'r', label='O(h)')\n",
    "plt.legend()\n",
    "plt.show()"
   ]
  }
 ],
 "metadata": {
  "colab": {
   "authorship_tag": "ABX9TyPIStVmg3+UwL7zio/fIxVm",
   "include_colab_link": true,
   "name": "C5.ipynb",
   "provenance": []
  },
  "kernelspec": {
   "display_name": "Python 3",
   "name": "python3"
  },
  "language_info": {
   "codemirror_mode": {
    "name": "ipython",
    "version": 3
   },
   "file_extension": ".py",
   "mimetype": "text/x-python",
   "name": "python",
   "nbconvert_exporter": "python",
   "pygments_lexer": "ipython3",
   "version": "3.11.6"
  }
 },
 "nbformat": 4,
 "nbformat_minor": 0
}
